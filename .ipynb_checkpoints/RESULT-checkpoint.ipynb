{
 "cells": [
  {
   "cell_type": "code",
   "execution_count": 1,
   "metadata": {},
   "outputs": [
    {
     "data": {
      "text/plain": [
       "82"
      ]
     },
     "execution_count": 1,
     "metadata": {},
     "output_type": "execute_result"
    }
   ],
   "source": [
    "import numpy as np\n",
    "import pandas as pd\n",
    "from function import *\n",
    "from function_solve import *\n",
    "secretstring = \"CYtZBsWZaZliYZocWLZlXuZZYWYeYXZsXeZXtXWpXeRYYYd!ZnYeWXoYXasnX,WXWrWPoAdWesnciGenWr\"\n",
    "len(secretstring)"
   ]
  },
  {
   "cell_type": "markdown",
   "metadata": {},
   "source": [
    "# Sometimes the high frequency of characters are meaningless"
   ]
  },
  {
   "cell_type": "code",
   "execution_count": 75,
   "metadata": {},
   "outputs": [
    {
     "data": {
      "text/plain": [
       "{'C': 1,\n",
       " 'B': 1,\n",
       " 'L': 1,\n",
       " 'u': 1,\n",
       " 'p': 1,\n",
       " 'R': 1,\n",
       " '!': 1,\n",
       " ',': 1,\n",
       " 'P': 1,\n",
       " 'A': 1,\n",
       " 'G': 1,\n",
       " 't': 2,\n",
       " 'a': 2,\n",
       " 'l': 2,\n",
       " 'i': 2,\n",
       " 'c': 2,\n",
       " 'd': 2,\n",
       " 'r': 2,\n",
       " 'o': 3,\n",
       " 's': 4,\n",
       " 'n': 4,\n",
       " 'e': 6,\n",
       " 'Y': 10,\n",
       " 'Z': 10,\n",
       " 'W': 10,\n",
       " 'X': 10}"
      ]
     },
     "execution_count": 75,
     "metadata": {},
     "output_type": "execute_result"
    }
   ],
   "source": [
    "count_dict = count_char_in_string(secretstring)\n",
    "count_dict"
   ]
  },
  {
   "cell_type": "code",
   "execution_count": 3,
   "metadata": {},
   "outputs": [
    {
     "name": "stdout",
     "output_type": "stream",
     "text": [
      "['Y', 'Z', 'W', 'X']\n"
     ]
    }
   ],
   "source": [
    "filter_out_array = [char for char,count in count_dict.items() if count == 10 ]\n",
    "print(filter_out_array)"
   ]
  },
  {
   "cell_type": "code",
   "execution_count": 177,
   "metadata": {},
   "outputs": [
    {
     "name": "stdout",
     "output_type": "stream",
     "text": [
      "CtBsaliocLluesetpeRd!neoasn,rPoAdesnciGenr\n",
      "['C', 't', 'B', 's', 'a', 'l', 'i', 'o', 'c', 'L', 'l', 'u', 'e', 's', 'e', 't', 'p', 'e', 'R', 'd', '!', 'n', 'e', 'o', 'a', 's', 'n', ',', 'r', 'P', 'o', 'A', 'd', 'e', 's', 'n', 'c', 'i', 'G', 'e', 'n', 'r']\n",
      "!,ABCGLPRaaccddeeeeeeiillnnnnoooprrssssttu\n",
      "['!', ',', 'A', 'B', 'C', 'G', 'L', 'P', 'R', 'a', 'a', 'c', 'c', 'd', 'd', 'e', 'e', 'e', 'e', 'e', 'e', 'i', 'i', 'l', 'l', 'n', 'n', 'n', 'n', 'o', 'o', 'o', 'p', 'r', 'r', 's', 's', 's', 's', 't', 't', 'u']\n"
     ]
    }
   ],
   "source": [
    "filtered_string = filter_chars_out_from_string(secretstring,filter_out_array)\n",
    "print(filtered_string)\n",
    "\n",
    "filtered_array =  string_to_array(filtered_string)\n",
    "print(filtered_array)\n",
    "\n",
    "filtered_string_sort = sort_string(filtered_string)\n",
    "print(filtered_string_sort)\n",
    "\n",
    "filtered_array_sort = filtered_array.copy()\n",
    "filtered_array_sort.sort()\n",
    "print(filtered_array_sort)"
   ]
  },
  {
   "cell_type": "code",
   "execution_count": null,
   "metadata": {},
   "outputs": [],
   "source": [
    "CtBsaliocLluesetped!neoasn,rPoAdesnciGenr"
   ]
  },
  {
   "cell_type": "code",
   "execution_count": null,
   "metadata": {},
   "outputs": [],
   "source": [
    "CONNECT LOCAL BUSINESS RGPEA TO EAPLEDNERIDSR"
   ]
  },
  {
   "cell_type": "markdown",
   "metadata": {},
   "source": [
    "---------------------------------------------"
   ]
  },
  {
   "cell_type": "code",
   "execution_count": 169,
   "metadata": {},
   "outputs": [
    {
     "name": "stdout",
     "output_type": "stream",
     "text": [
      "CBaicleepR!eanrodscGntsloLustednos,PAenier\n",
      "reineAP,sondetsuLolstnGcsdornae!RpeelciaBC\n",
      "----------------------------------------------------------------\n",
      "Cacep!ardcntsloLustednos,PAenierBileRenosG\n",
      "GsoneReliBreineAP,sondetsuLolstncdra!pecaC\n",
      "----------------------------------------------------------------\n",
      "CieRaoctlousedosPAnirBaclep!enrdsGnsLtn,ee\n",
      "ee,ntLsnGsdrne!pelcaBrinAPsodesuoltcoaReiC\n",
      "----------------------------------------------------------------\n",
      "CcpadntoLteosAeerBileRenosGslusdn,Pniae!rc\n",
      "cr!eainP,ndsulsGsoneReliBreeAsoetLotndapcC\n",
      "----------------------------------------------------------------\n",
      "Cl!ontLudnPAerBceRerdGsoseo,eiaiepanscltsn\n",
      "nstlcsnapeiaie,oesosGdreRecBreAPnduLtno!lC\n",
      "----------------------------------------------------------------\n",
      "CeactusosniBleensGsLtn,eeacp!rdnloedPAriRo\n",
      "oRirAPdeolndr!pcaee,ntLsGsneelBinsosutcaeC\n",
      "----------------------------------------------------------------\n",
      "Certst,PrBepnonsuesAealRadGlLdoeiic!esconn\n",
      "nnocse!ciieodLlGdaRlaeAseusnonpeBrP,tstreC\n",
      "----------------------------------------------------------------\n",
      "CpdtteAeBeRosssdPnae!rclun,iilenGoLosercan\n",
      "nacresoLoGnelii,nulcr!eanPdsssoReBeAettdpC\n",
      "----------------------------------------------------------------\n",
      "CRctedniBp!sGstneeaeednlsoArieaoousPclnrL,\n",
      ",LrnlcPsuooaeirAoslndeeaeentsGs!pBindetcRC\n",
      "----------------------------------------------------------------\n",
      "C!ntdnerBReGseoiapacltsniensos,ecerdLuPAlo\n",
      "olAPuLdrece,sosneinstlcapaioesGeRBrendtn!C\n",
      "----------------------------------------------------------------\n",
      "CetnoB!asdsraRnnle,eiprGotPiceocLsAnledsue\n",
      "eusdelnAsLcoeciPtoGrpie,elnnRarsdsa!BonteC\n",
      "----------------------------------------------------------------\n",
      "CatosBensn,a!rldPiRooeArcpdnLteelesGusniec\n",
      "ceinsuGseleetLndpcrAeooRiPdlr!a,nsneBsotaC\n",
      "----------------------------------------------------------------\n",
      "Cnts,BarsoPaeolnAi!dodecRsLenlpcutireeGnse\n",
      "esnGeeritucplneLsRcedod!iAnloeaPosraB,stnC\n",
      "----------------------------------------------------------------\n",
      "Crt,PBnossAaadloeiesonnc!cLdilRGueeepnstre\n",
      "ertsnpeeeuGRlidLc!cnnoseieoldaaAssonBP,trC\n",
      "----------------------------------------------------------------\n",
      "CotPABrds,eanslsniacooiceGLnel!nudreRseept\n",
      "tpeesRerdun!lenLGecioocainslsnae,sdrBAPtoC\n",
      "----------------------------------------------------------------\n",
      "CdtAeBossPnarcl,iinGosecanLorleune!sdeRtep\n",
      "petReds!enuelroLnacesoGnii,lcranPssoBeAtdC\n",
      "----------------------------------------------------------------\n",
      "CstenBdcsAiaoGlPeirno,rcnLslauoeesne!tdpRe\n",
      "eRpdt!enseeoualsLncr,onriePlGoaiAscdBnetsC\n",
      "----------------------------------------------------------------\n",
      "CctniBsGseeadnlAriooPcrL,lnuseasoeetnp!edR\n",
      "Rde!pnteeosaesunl,LrcPooirAlndaeesGsBintcC\n",
      "----------------------------------------------------------------\n",
      "CGtieBcnsnrasleidoAcoLPlru,ensseatopeenR!d\n",
      "d!Rneepotaessne,urlPLocAodielsarnsncBeitGC\n",
      "----------------------------------------------------------------\n",
      "CnterBGsiaclnisoecdLAlouPers,entspaeoRedn!\n",
      "!ndeRoeapstne,srePuolALdceosinlcaisGBretnC\n",
      "----------------------------------------------------------------\n",
      "CtrBnseaGliiconcsLelduAeosPert,pnesRado!en\n",
      "ne!odaRsenp,trePsoeAudleLscnociilGaesnBrtC\n",
      "----------------------------------------------------------------\n",
      "CtBsranleiGoiccLnlsueedsAeotPpre,Rnds!anoe\n",
      "eona!sdnR,erpPtoeAsdeeuslnLccioGielnarsBtC\n",
      "----------------------------------------------------------------\n",
      "CtBsalrinoecGLilcunesseedtApoePRrd,!nnseao\n",
      "oaesnn!,drRPeopAtdeessenucliLGceonirlasBtC\n",
      "----------------------------------------------------------------\n",
      "CtBsaliorcnLelGuiecsnestepdeARodP!rn,enosa\n",
      "asone,nr!PdoRAedpetsensceiuGleLncroilasBtC\n",
      "----------------------------------------------------------------\n",
      "CtBsaliocLrlnueeGsiectnpseeRddA!onPero,ans\n",
      "sna,orePno!AddReespntceisGeeunlrLcoilasBtC\n",
      "----------------------------------------------------------------\n",
      "CtBsaliocLlurenseeGtipcenRsde!dnAeooPars,n\n",
      "n,sraPooeAnd!edsRnecpitGeesnerulLcoilasBtC\n",
      "----------------------------------------------------------------\n",
      "CtBsaliocLluesrentepGeiRcdn!sneedoAaosPnr,\n",
      ",rnPsoaAodeens!ndcRieGpetnerseulLcoilasBtC\n",
      "----------------------------------------------------------------\n",
      "CtBsaliocLluesetrpneeRGdi!cnnesoeadsAno,Pr\n",
      "rP,onAsdaeosennc!idGReenprteseulLcoilasBtC\n",
      "----------------------------------------------------------------\n",
      "CtBsaliocLluesetperRnde!Gnieconassend,AroP\n",
      "PorA,dnessanoceinG!ednRrepteseulLcoilasBtC\n",
      "----------------------------------------------------------------\n",
      "CtBsaliocLluesetpeRdr!nneeGoiacsnns,erdPAo\n",
      "oAPdre,snnscaioGeenn!rdRepteseulLcoilasBtC\n",
      "----------------------------------------------------------------\n",
      "CtBsaliocLluesetpeRd!nrenoeaGsinc,nrsPeodA\n",
      "AdoePsrn,cnisGaeonern!dRepteseulLcoilasBtC\n",
      "----------------------------------------------------------------\n",
      "CtBsaliocLluesetpeRd!neoransenG,ircPnosAed\n",
      "deAsonPcri,Gnesnaroen!dRepteseulLcoilasBtC\n",
      "----------------------------------------------------------------\n",
      "CtBsaliocLluesetpeRd!neoasrnn,erGPiocAndse\n",
      "esdnAcoiPGre,nnrsaoen!dRepteseulLcoilasBtC\n",
      "----------------------------------------------------------------\n",
      "CtBsaliocLluesetpeRd!neoasn,rrnPeoGAidcens\n",
      "snecdiAGoePnrr,nsaoen!dRepteseulLcoilasBtC\n",
      "----------------------------------------------------------------\n",
      "CtBsaliocLluesetpeRd!neoasn,rPronAedGeiscn\n",
      "ncsieGdeAnorPr,nsaoen!dRepteseulLcoilasBtC\n",
      "----------------------------------------------------------------\n",
      "CtBsaliocLluesetpeRd!neoasn,rPoArdneesGnic\n",
      "cinGseendrAoPr,nsaoen!dRepteseulLcoilasBtC\n",
      "----------------------------------------------------------------\n",
      "CtBsaliocLluesetpeRd!neoasn,rPoAdersnnecGi\n",
      "iGcennsredAoPr,nsaoen!dRepteseulLcoilasBtC\n",
      "----------------------------------------------------------------\n",
      "CtBsaliocLluesetpeRd!neoasn,rPoAdesnrcnieG\n",
      "GeincrnsedAoPr,nsaoen!dRepteseulLcoilasBtC\n",
      "----------------------------------------------------------------\n",
      "CtBsaliocLluesetpeRd!neoasn,rPoAdesncirGne\n",
      "enGricnsedAoPr,nsaoen!dRepteseulLcoilasBtC\n",
      "----------------------------------------------------------------\n",
      "CtBsaliocLluesetpeRd!neoasn,rPoAdesnciGern\n",
      "nreGicnsedAoPr,nsaoen!dRepteseulLcoilasBtC\n",
      "----------------------------------------------------------------\n"
     ]
    }
   ],
   "source": [
    "# try : zigzag (v^v^ with n row)\n",
    "\n",
    "test_text = filtered_string\n",
    "for n in range(2,len(test_text)):\n",
    "    result = printZigZagConcat(test_text,n)\n",
    "    print(result)\n",
    "    print(result[::-1])\n",
    "    print('----------------------------------------------------------------')"
   ]
  },
  {
   "cell_type": "code",
   "execution_count": 171,
   "metadata": {},
   "outputs": [
    {
     "name": "stdout",
     "output_type": "stream",
     "text": [
      "['!', 'A', ',', 'C', 'B', 'L', 'G', 'R', 'P', 'a', 'a', 'c', 'c', 'd', 'd', 'e', 'e', 'e', 'e', 'e', 'e', 'i', 'i', 'l', 'l', 'n', 'n', 'n', 'n', 'o', 'o', 'p', 'o', 'r', 'r', 's', 's', 's', 's', 't', 't', 'u']\n",
      "----------------------\n",
      "['u', 't', 't', 's', 's', 's', 's', 'r', 'r', 'o', 'p', 'o', 'o', 'n', 'n', 'n', 'n', 'l', 'l', 'i', 'i', 'e', 'e', 'e', 'e', 'e', 'e', 'd', 'd', 'c', 'c', 'a', 'a', 'P', 'R', 'G', 'L', 'B', 'C', ',', 'A', '!']\n",
      "----------------------\n",
      "['!', 'A', ',', 'C', 'B', 'L', 'G', 'R', 'P', 'a', 'a', 'c', 'c', 'd', 'd', 'e', 'e', 'e', 'e', 'e', 'e', 'i', 'i', 'l', 'l', 'n', 'n', 'n', 'n', 'o', 'o', 'p', 'o', 'r', 'r', 's', 's', 's', 's', 't', 't', 'u']\n",
      "----------------------\n",
      "['u', 't', 't', 's', 's', 's', 's', 'r', 'r', 'o', 'p', 'o', 'o', 'n', 'n', 'n', 'n', 'l', 'l', 'i', 'i', 'e', 'e', 'e', 'e', 'e', 'e', 'd', 'd', 'c', 'c', 'a', 'a', 'P', 'R', 'G', 'L', 'B', 'C', ',', 'A', '!']\n"
     ]
    }
   ],
   "source": [
    "# try : zigzag (a>b<c>d)\n",
    "\n",
    "test_arr = filtered_array.copy()\n",
    "print(zigzag_sort(test_arr))\n",
    "print('----------------------')\n",
    "print(zigzag_sort(test_arr)[::-1])\n",
    "print('----------------------')\n",
    "print(zigzag_sort(test_arr[::-1]))\n",
    "print('----------------------')\n",
    "print(zigzag_sort(test_arr[::-1])[::-1])"
   ]
  },
  {
   "cell_type": "code",
   "execution_count": 173,
   "metadata": {},
   "outputs": [
    {
     "name": "stdout",
     "output_type": "stream",
     "text": [
      "CtBsaliocLluesetpeRd!neoasn,rPoAdesnciGenr\n",
      "rneGicnsedAoPr,nsaoen!dRepteseulLcoilasBtC\n",
      "CtBsaliocLluesetpeRd!neoasn,rPoAdesnciGenr\n",
      "rneGicnsedAoPr,nsaoen!dRepteseulLcoilasBtC\n",
      "------------------------------------------\n",
      "CtBaslicoLleusepteR!dneaosnr,PodAescniGner\n",
      "renGincseAdoP,rnsoaend!RetpesuelLocilsaBtC\n",
      "CBtsailoclLueestpRed!enoans,roPAdsencGienr\n",
      "rneiGcnesdAPor,snaone!deRptseeuLlcoliastBC\n",
      "------------------------------------------\n",
      "CtsiaBloLelcustRpeednae!os,ornPAecsdnienGr\n",
      "rGneindsceAPnro,so!eandeepRtsucleLolBaistC\n",
      "CstBaiLolcletsuepRnde!ea,sonroeAPdsceinGnr\n",
      "rnGniecsdPAeornos,ae!ednRpeustelcloLiaBtsC\n",
      "------------------------------------------\n",
      "CtaclBsiLepslouee!anRtdesrdPno,oecisAnGe\n",
      "eGnAsiceo,onPdrsedtRna!eeuolspeLisBlcatC\n",
      "CatBlceLisolsp!eeutRnarsedonPdceo,AsiGne\n",
      "enGisA,oecdPnodesranRtuee!pslosiLeclBtaC\n",
      "------------------------------------------\n",
      "CtlliBsout!pecaLsensoneRedo,AncdraPeiGse\n",
      "esGiePardcnA,odeRenosnesLacep!tuosBilltC\n",
      "CltBiltuosacep!snesLeRenonA,odardciePsGe\n",
      "eGsPeicdrado,AnoneReLsens!pecasoutliBtlC\n",
      "------------------------------------------\n",
      "CtieoBscsRadeLallt!socAnnpuee,diGeroPsennr\n",
      "rnnesPoreGid,eeupnnAcos!tllaLedaRscsBoeitC\n",
      "CitBoeRscsaLedaos!tllupnnAcid,eeoreGesPnnr\n",
      "rnnPseGeroee,dicAnnpullt!soadeLascsReoBtiC\n",
      "------------------------------------------\n",
      "CtoecBsLtnreplalueoPncoaReisdsAiGdn!,eensr\n",
      "rsnee,!ndGiAsdsieRaocnPoeulalperntLsBceotC\n",
      "CotBcentLsalpernPoeulieRaociAsds!ndGee,snr\n",
      "rns,eeGdn!sdsAicoaReilueoPnreplasLtnecBtoC\n",
      "------------------------------------------\n",
      "CtcpLBsleadsRualednes,!sioenrncPetooiGAe\n",
      "eAGiootePcnrneois!,sendelauRsdaelsBLpctC\n",
      "CctBLpaelsauRsdendelis!,snrneotePciooAGe\n",
      "eGAooicPetoenrns,!silednedsRuasleapLBtcC\n",
      "------------------------------------------\n",
      "CtLRlBsud,r!ealsnPoeeiotoAdapcesesnn\n",
      "nnsesecpadAotoieeoPnslae!r,dusBlRLtC\n",
      "CLtBlR,dusae!rPnslieeoAotocpadesensn\n",
      "nsnesedapcotoAoeeilsnPr!easud,RlBtLC\n",
      "------------------------------------------\n",
      "Ctl!uBsenoAesaleodeatiopssnnecLR,cirdPGe\n",
      "eGPdric,RLcennsspoitaedoelaseAonesBu!ltC\n",
      "CltBu!onesaseAdoelitaesspocennc,RLdriGPe\n",
      "ePGirdLR,cnnecopsseatileodAesaseno!uBtlC\n",
      "------------------------------------------\n",
      "CtueeBssoaealtsnpioe,rRcLdPo!lnAd\n",
      "dAnl!oPdLcRr,eoipnstlaeaossBeeutC\n",
      "CutBeeossaeastlipn,eocRrPdLl!oAnd\n",
      "dnAo!lLdPrRcoe,npiltsaeassoeeBtuC\n",
      "------------------------------------------\n",
      "CteasBsesntalp,reioRPodcL!Adnlueeson\n",
      "noseeulndA!LcdoPRoier,platnsesBsaetC\n",
      "CetBsasesatn,plierPRocdoA!Llndeeuosn\n",
      "nsoueednlL!AodcoRPreilp,ntasesasBteC\n",
      "------------------------------------------\n",
      "CtsneBst,rpalePoRiodAd!cLneseluoncaesiG\n",
      "GiseacnoulesenLc!dAdoiRoPelapr,tsBenstC\n",
      "CstBen,tsaprPeliRoAdoc!denLlesnoueacisG\n",
      "GsicaeuonselLned!codAoRilePrpast,neBtsC\n",
      "------------------------------------------\n",
      "CtertBspPoealRAddio!esncLencoluaiGsesnen,r\n",
      "r,nensesGiaulocneLcnse!oiddARlaeoPpsBtretC\n",
      "CetBtrPpsaeoARlidde!ocnsneLlociauesGens,nr\n",
      "rn,sneGseuaicolLensnco!eddilRAoeaspPrtBteC\n",
      "------------------------------------------\n",
      "CttpBseRald!ionecLoalusnes,reP\n",
      "Per,sensulaoLcenoi!dlaResBpttC\n",
      "CttBpesaRdli!noceoLlasuen,serP\n",
      "Pres,neusalLoecon!ildRasepBttC\n",
      "------------------------------------------\n",
      "CtpeBsRdal!nioeocLaslun,esrPetoA\n",
      "AotePrse,nulsaLcoeoin!ladRsBeptC\n",
      "CptBeRsad!lineocoaLlsnue,rsePotA\n",
      "AtoPesr,eunslLaocoenil!dasReBtpC\n",
      "------------------------------------------\n",
      "CteRBsd!alneiooacLsnlu,resPoetAdpe\n",
      "epdAteoPser,ulnsLcaooienla!dsBRetC\n",
      "CetBRdsa!nlieoocasLln,uerPseoAtpde\n",
      "edptAoesPreu,nlLsacooeiln!asdRBteC\n",
      "------------------------------------------\n",
      "CtRdBs!naleoioascLn,lurPesoAetdepesn\n",
      "nsepedteAosePrul,nLcsaoioelan!sBdRtC\n",
      "CRtBd!sanelioaocsnLl,ruePoseAdtpesen\n",
      "neseptdAesoPeur,lLnscoaoilenas!dBtRC\n",
      "------------------------------------------\n",
      "Ctd!BsnealoaiosncL,rluPoesAdetespencRi\n",
      "iRcnepsetedAseoPulr,LcnsoiaolaensB!dtC\n",
      "CdtB!nsaeoliasocn,LlrPueoAsedetpsneRci\n",
      "icRensptedesAoeuPrlL,ncosailoeasn!BtdC\n",
      "------------------------------------------\n",
      "Ct!nBseoalasion,cLrPluoAesdeetsnpeciRdGe\n",
      "eGdRicepnsteedseAoulPrLc,noisalaoesBn!tC\n",
      "C!tBnesaoalisnoc,rLlPoueAdseestpnceRiGde\n",
      "edGiRecnptseesdAeuoPlLr,consilaoasenBt!C\n",
      "------------------------------------------\n",
      "CtneBsoaalsnio,rcLPoluAdesesetncpeiGRden!r\n",
      "r!nedRGiepcntesesedAuloPLcr,oinslaaosBentC\n",
      "CntBeosaaslin,ocrPLloAuedesesntpcieRGed!nr\n",
      "rn!deGReicptnsesedeuAolLPrco,nilsaasoeBtnC\n",
      "------------------------------------------\n",
      "CtBsaliocLluesetpeRd!n\n",
      "n!dRepteseulLcoilasBtC\n",
      "CtBsaliocLluesetpeRd!n\n",
      "n!dRepteseulLcoilasBtC\n",
      "------------------------------------------\n",
      "CtBsaliocLluesetpeRd!ne\n",
      "en!dRepteseulLcoilasBtC\n",
      "CtBsaliocLluesetpeRd!ne\n",
      "en!dRepteseulLcoilasBtC\n",
      "------------------------------------------\n",
      "CtBsaliocLluesetpeRd!neo\n",
      "oen!dRepteseulLcoilasBtC\n",
      "CtBsaliocLluesetpeRd!neo\n",
      "oen!dRepteseulLcoilasBtC\n",
      "------------------------------------------\n",
      "CtBsaliocLluesetpeRd!neoa\n",
      "aoen!dRepteseulLcoilasBtC\n",
      "CtBsaliocLluesetpeRd!neoa\n",
      "aoen!dRepteseulLcoilasBtC\n",
      "------------------------------------------\n",
      "CtBsaliocLluesetpeRd!neoas\n",
      "saoen!dRepteseulLcoilasBtC\n",
      "CtBsaliocLluesetpeRd!neoas\n",
      "saoen!dRepteseulLcoilasBtC\n",
      "------------------------------------------\n",
      "CtBsaliocLluesetpeRd!neoasn\n",
      "nsaoen!dRepteseulLcoilasBtC\n",
      "CtBsaliocLluesetpeRd!neoasn\n",
      "nsaoen!dRepteseulLcoilasBtC\n",
      "------------------------------------------\n",
      "CtBsaliocLluesetpeRd!neoasn,\n",
      ",nsaoen!dRepteseulLcoilasBtC\n",
      "CtBsaliocLluesetpeRd!neoasn,\n",
      ",nsaoen!dRepteseulLcoilasBtC\n",
      "------------------------------------------\n",
      "CtBsaliocLluesetpeRd!neoasn,r\n",
      "r,nsaoen!dRepteseulLcoilasBtC\n",
      "CtBsaliocLluesetpeRd!neoasn,r\n",
      "r,nsaoen!dRepteseulLcoilasBtC\n",
      "------------------------------------------\n",
      "CtBsaliocLluesetpeRd!neoasn,rP\n",
      "Pr,nsaoen!dRepteseulLcoilasBtC\n",
      "CtBsaliocLluesetpeRd!neoasn,rP\n",
      "Pr,nsaoen!dRepteseulLcoilasBtC\n",
      "------------------------------------------\n"
     ]
    }
   ],
   "source": [
    "# try : zigzag_matrix\n",
    "\n",
    "matrix_source_arr = filtered_array.copy()\n",
    "for n in range(30):\n",
    "    n +=1\n",
    "    matrix = create_matrix(matrix_source_arr,n)\n",
    "    matrix = np.array(matrix)\n",
    "    result = zigzag_matrix(matrix,n,False)\n",
    "    print(result)\n",
    "    print(result[::-1])\n",
    "    \n",
    "    result = zigzag_matrix(matrix,n,True)\n",
    "    print(result)\n",
    "    print(result[::-1])\n",
    "    \n",
    "    print('------------------------------------------')"
   ]
  },
  {
   "cell_type": "code",
   "execution_count": 103,
   "metadata": {},
   "outputs": [],
   "source": [
    "def zig_zag_index(k, n):\n",
    "    # upper side of interval\n",
    "    if k >= n * (n + 1) // 2:\n",
    "        i, j = zig_zag_index(n * n - 1 - k, n)\n",
    "        return n - 1 - i, n - 1 - j\n",
    "\n",
    "    # lower side of interval\n",
    "    i = int((np.sqrt(1 + 8 * k) - 1) / 2)\n",
    "    j = k - i * (i + 1) // 2\n",
    "    return (j, i - j) if i & 1 else (i - j, j)\n",
    "\n",
    "\n",
    "def zig_zag_value(i, j, n):\n",
    "    # upper side of interval\n",
    "    if i + j >= n:\n",
    "        return n * n - 1 - zig_zag_value(n - 1 - i, n - 1 - j, n)\n",
    "\n",
    "    # lower side of interval\n",
    "    k = (i + j) * (i + j + 1) // 2\n",
    "    return k + i if (i + j) & 1 else k + j"
   ]
  },
  {
   "cell_type": "code",
   "execution_count": 179,
   "metadata": {},
   "outputs": [
    {
     "name": "stdout",
     "output_type": "stream",
     "text": [
      "Ctlietn\n",
      "Baospss\n",
      "sceeane\n",
      "LuRo,dd\n",
      "lderAec\n",
      "!nPosnn\n"
     ]
    }
   ],
   "source": [
    "n = 6\n",
    "m = 7\n",
    "Ma = np.zeros((n, m), dtype=int)\n",
    "for i in range(n):\n",
    "    for j in range(m):\n",
    "        Ma[i, j] = zig_zag_value(i, j, n)\n",
    "        \n",
    "        \n",
    "for row in Ma:\n",
    "    text = ''\n",
    "    for i in row:\n",
    "        try:\n",
    "            text += filtered_string[i]\n",
    "        except:\n",
    "            text +=''\n",
    "    print(text)"
   ]
  },
  {
   "cell_type": "code",
   "execution_count": 188,
   "metadata": {},
   "outputs": [
    {
     "name": "stdout",
     "output_type": "stream",
     "text": [
      "Ctliet\n",
      "Baosps\n",
      "sceean\n",
      "LuRo,d\n",
      "lderAe\n",
      "!nPosn\n"
     ]
    }
   ],
   "source": [
    "n = 6\n",
    "m = 6\n",
    "M = np.zeros((n, m), dtype=int)\n",
    "for k in range(n * m):\n",
    "    M[zig_zag_index(k, n)] = k\n",
    "M\n",
    "\n",
    "for row in M:\n",
    "    text = ''\n",
    "    for i in row:\n",
    "        try:\n",
    "            text += filtered_string[i]\n",
    "        except:\n",
    "            text +=''\n",
    "    print(text)"
   ]
  },
  {
   "cell_type": "code",
   "execution_count": 248,
   "metadata": {},
   "outputs": [
    {
     "data": {
      "text/plain": [
       "33"
      ]
     },
     "execution_count": 248,
     "metadata": {},
     "output_type": "execute_result"
    }
   ],
   "source": [
    "vv = 'tsaliocluesetpedneoasnrodesncienr'\n",
    "len(vv)"
   ]
  },
  {
   "cell_type": "code",
   "execution_count": 250,
   "metadata": {},
   "outputs": [
    {
     "name": "stdout",
     "output_type": "stream",
     "text": [
      "sa\n",
      "oilas\n",
      "salioclu\n",
      "eseulcoilas\n",
      "saliocluesetpe\n",
      "endepteseulcoilas\n",
      "saliocluesetpedneoas\n",
      "ornsaoendepteseulcoilas\n",
      "saliocluesetpedneoasnrodes\n",
      "icnsedornsaoendepteseulcoilas\n",
      "saliocluesetpedneoasnrodesncienr\n",
      "rneicnsedornsaoendepteseulcoilas\n",
      "saliocluesetpedneoasnrodesncienr\n",
      "rneicnsedornsaoendepteseulcoilas\n",
      "saliocluesetpedneoasnrodesncienr\n",
      "rneicnsedornsaoendepteseulcoilas\n",
      "saliocluesetpedneoasnrodesncienr\n",
      "rneicnsedornsaoendepteseulcoilas\n",
      "saliocluesetpedneoasnrodesncienr\n",
      "rneicnsedornsaoendepteseulcoilas\n",
      "saliocluesetpedneoasnrodesncienr\n",
      "rneicnsedornsaoendepteseulcoilas\n",
      "saliocluesetpedneoasnrodesncienr\n",
      "rneicnsedornsaoendepteseulcoilas\n",
      "saliocluesetpedneoasnrodesncienr\n",
      "rneicnsedornsaoendepteseulcoilas\n",
      "saliocluesetpedneoasnrodesncienr\n",
      "rneicnsedornsaoendepteseulcoilas\n",
      "saliocluesetpedneoasnrodesncienr\n",
      "rneicnsedornsaoendepteseulcoilas\n",
      "saliocluesetpedneoasnrodesncienr\n",
      "rneicnsedornsaoendepteseulcoilas\n",
      "saliocluesetpedneoasnrodesncienr\n"
     ]
    }
   ],
   "source": [
    "n = vv\n",
    "m = 3\n",
    "l = 0\n",
    "\n",
    "c=m\n",
    "while len(n)%m!=0:\n",
    "    n.append('*')\n",
    "d=len(n)\n",
    "for i in range(d):\n",
    "    if i%2==0:\n",
    "        print(''.join(n[1:m]))\n",
    "    else:\n",
    "        print(''.join(n[1:m][::-1]))\n",
    "    l+=c\n",
    "    m+=c"
   ]
  }
 ],
 "metadata": {
  "kernelspec": {
   "display_name": "Python 3 (ipykernel)",
   "language": "python",
   "name": "python3"
  },
  "language_info": {
   "codemirror_mode": {
    "name": "ipython",
    "version": 3
   },
   "file_extension": ".py",
   "mimetype": "text/x-python",
   "name": "python",
   "nbconvert_exporter": "python",
   "pygments_lexer": "ipython3",
   "version": "3.7.9"
  },
  "vscode": {
   "interpreter": {
    "hash": "3cc0797f5513bcf5b40f2b9f2bcd2a7ab449139d675a70648ebce321d6d7cf93"
   }
  }
 },
 "nbformat": 4,
 "nbformat_minor": 2
}

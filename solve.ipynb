{
 "cells": [
  {
   "cell_type": "code",
   "execution_count": 14,
   "metadata": {},
   "outputs": [
    {
     "data": {
      "text/plain": [
       "82"
      ]
     },
     "execution_count": 14,
     "metadata": {},
     "output_type": "execute_result"
    }
   ],
   "source": [
    "import numpy as np\n",
    "import collections\n",
    "import pandas as pd\n",
    "from function import *\n",
    "from function_solve import *\n",
    "secretstring = \"CYtZBsWZaZliYZocWLZlXuZZYWYeYXZsXeZXtXWpXeRYYYd!ZnYeWXoYXasnX,WXWrWPoAdWesnciGenWr\"\n",
    "len(secretstring)\n"
   ]
  },
  {
   "cell_type": "code",
   "execution_count": 15,
   "metadata": {},
   "outputs": [],
   "source": [
    "frequencies = collections.Counter(secretstring)\n",
    "count_dict = {}\n",
    "\n",
    "for key, value in frequencies.items():\n",
    "    if value > 0:\n",
    "        count_dict[key] = value"
   ]
  },
  {
   "cell_type": "code",
   "execution_count": 3,
   "metadata": {},
   "outputs": [
    {
     "data": {
      "text/plain": [
       "{'C': 1,\n",
       " 'B': 1,\n",
       " 'L': 1,\n",
       " 'u': 1,\n",
       " 'p': 1,\n",
       " 'R': 1,\n",
       " '!': 1,\n",
       " ',': 1,\n",
       " 'P': 1,\n",
       " 'A': 1,\n",
       " 'G': 1,\n",
       " 't': 2,\n",
       " 'a': 2,\n",
       " 'l': 2,\n",
       " 'i': 2,\n",
       " 'c': 2,\n",
       " 'd': 2,\n",
       " 'r': 2,\n",
       " 'o': 3,\n",
       " 's': 4,\n",
       " 'n': 4,\n",
       " 'e': 6,\n",
       " 'Y': 10,\n",
       " 'Z': 10,\n",
       " 'W': 10,\n",
       " 'X': 10}"
      ]
     },
     "execution_count": 3,
     "metadata": {},
     "output_type": "execute_result"
    }
   ],
   "source": [
    "dict(sorted(count_dict.items(), key=lambda item: item[1]))"
   ]
  },
  {
   "cell_type": "code",
   "execution_count": 4,
   "metadata": {},
   "outputs": [
    {
     "name": "stdout",
     "output_type": "stream",
     "text": [
      "['Y', 'Z', 'W', 'X']\n"
     ]
    }
   ],
   "source": [
    "# Sometimes the high frequency of characters are meaningless\n",
    "\n",
    "filterout = [char for char,count in count_dict.items() if count == 10 ]\n",
    "\n",
    "print(filterout)"
   ]
  },
  {
   "cell_type": "code",
   "execution_count": 7,
   "metadata": {},
   "outputs": [
    {
     "name": "stdout",
     "output_type": "stream",
     "text": [
      "['C', 't', 'B', 's', 'a', 'l', 'i', 'o', 'c', 'L', 'u', 'e', 'p', 'R', 'd', '!', 'n', ',', 'r', 'P', 'A', 'G']\n"
     ]
    }
   ],
   "source": [
    "distinct_char = [char for char,count in count_dict.items() if count < 10 ]\n",
    "print(distinct_char)"
   ]
  },
  {
   "cell_type": "code",
   "execution_count": 13,
   "metadata": {},
   "outputs": [
    {
     "ename": "AttributeError",
     "evalue": "'str' object has no attribute 'sorted'",
     "output_type": "error",
     "traceback": [
      "\u001b[1;31m-------------------------------------------------------------------------\u001b[0m",
      "\u001b[1;31mAttributeError\u001b[0m                          Traceback (most recent call last)",
      "\u001b[1;32mC:\\Users\\SITTHI~1\\AppData\\Local\\Temp/ipykernel_644/3156209581.py\u001b[0m in \u001b[0;36m<module>\u001b[1;34m\u001b[0m\n\u001b[0;32m      7\u001b[0m \u001b[1;31m# string = ''.join(distinct_char)\u001b[0m\u001b[1;33m\u001b[0m\u001b[1;33m\u001b[0m\u001b[1;33m\u001b[0m\u001b[0m\n\u001b[0;32m      8\u001b[0m \u001b[1;33m\u001b[0m\u001b[0m\n\u001b[1;32m----> 9\u001b[1;33m \u001b[0mprint\u001b[0m\u001b[1;33m(\u001b[0m\u001b[0mstring\u001b[0m\u001b[1;33m.\u001b[0m\u001b[0msorted\u001b[0m\u001b[1;33m)\u001b[0m\u001b[1;33m\u001b[0m\u001b[1;33m\u001b[0m\u001b[0m\n\u001b[0m",
      "\u001b[1;31mAttributeError\u001b[0m: 'str' object has no attribute 'sorted'"
     ]
    }
   ],
   "source": [
    "# OPT1\n",
    "string = secretstring\n",
    "for char in filterout:\n",
    "    string = string.replace(char, \"\")\n",
    "    \n",
    "# OPT2 (distinct)\n",
    "# string = ''.join(distinct_char)\n",
    "\n",
    "print(string.sorted)"
   ]
  },
  {
   "cell_type": "code",
   "execution_count": 9,
   "metadata": {},
   "outputs": [
    {
     "name": "stdout",
     "output_type": "stream",
     "text": [
      "42\n",
      "['C', 't', 'B', 's', 'a', 'l', 'i', 'o', 'c', 'L', 'l', 'u', 'e', 's', 'e', 't', 'p', 'e', 'R', 'd', '!', 'n', 'e', 'o', 'a', 's', 'n', ',', 'r', 'P', 'o', 'A', 'd', 'e', 's', 'n', 'c', 'i', 'G', 'e', 'n', 'r']\n",
      "CtBsaliocLluesetpeRd!neoasn,rPoAdesnciGenr\n",
      "40\n",
      "['C', 't', 'B', 's', 'a', 'l', 'i', 'o', 'c', 'L', 'l', 'u', 'e', 's', 'e', 't', 'p', 'e', 'R', 'd', 'n', 'e', 'o', 'a', 's', 'n', 'r', 'P', 'o', 'A', 'd', 'e', 's', 'n', 'c', 'i', 'G', 'e', 'n', 'r']\n",
      "CtBsaliocLluesetpeRdneoasnrPoAdesnciGenr\n",
      "7\n",
      "['C', 'B', 'L', 'R', 'P', 'A', 'G']\n",
      "CBLRPAG\n",
      "35\n",
      "['t', 's', 'a', 'l', 'i', 'o', 'c', 'l', 'u', 'e', 's', 'e', 't', 'p', 'e', 'd', '!', 'n', 'e', 'o', 'a', 's', 'n', ',', 'r', 'o', 'd', 'e', 's', 'n', 'c', 'i', 'e', 'n', 'r']\n",
      "tsaliocluesetped!neoasn,rodesncienr\n",
      "33\n",
      "['t', 's', 'a', 'l', 'i', 'o', 'c', 'l', 'u', 'e', 's', 'e', 't', 'p', 'e', 'd', 'n', 'e', 'o', 'a', 's', 'n', 'r', 'o', 'd', 'e', 's', 'n', 'c', 'i', 'e', 'n', 'r']\n",
      "tsaliocluesetpedneoasnrodesncienr\n"
     ]
    }
   ],
   "source": [
    "text_arr = [char for char in string]\n",
    "alpha_text_arr= [char for char in string if char.isalpha()]\n",
    "upper_text_arr = [char for char in string if char.isupper()]\n",
    "lower_text_arr = [char for char in string if char.isupper() == False]\n",
    "alpha_lower_text_arr = [char for char in string if char.islower() and char.isalpha()]\n",
    "\n",
    "\n",
    "text = ''.join(text_arr)\n",
    "alpha_text = ''.join(alpha_text_arr)\n",
    "upper_text = ''.join(upper_text_arr)\n",
    "lower_text = ''.join(lower_text_arr)\n",
    "alpha_lower_text = ''.join(alpha_lower_text_arr)\n",
    "\n",
    "\n",
    "print(len(text_arr))\n",
    "print(text_arr)\n",
    "print(text)\n",
    "\n",
    "print(len(alpha_text_arr))\n",
    "print(alpha_text_arr)\n",
    "print(alpha_text)\n",
    "\n",
    "print(len(upper_text_arr))\n",
    "print(upper_text_arr)\n",
    "print(upper_text)\n",
    "\n",
    "print(len(lower_text_arr))\n",
    "print(lower_text_arr)\n",
    "print(lower_text)\n",
    "\n",
    "print(len(alpha_lower_text_arr))\n",
    "print(alpha_lower_text_arr)\n",
    "print(alpha_lower_text)"
   ]
  },
  {
   "cell_type": "code",
   "execution_count": 10,
   "metadata": {},
   "outputs": [
    {
     "name": "stdout",
     "output_type": "stream",
     "text": [
      "reineAP,sondetsuLolstnGcsdornae!RpeelciaBC\n",
      "\n",
      "CBaicleepR!eanrodscGntsloLustednos,PAenier\n",
      "----------------------------------------------------------------\n",
      "riePsnesLltnGcsdornae!RpeelciaBCenA,odtuos\n",
      "\n",
      "Cacep!ardcntsloLustednos,PAenierBileRenosG\n",
      "----------------------------------------------------------------\n",
      "rnPoeulncsoraeRpeliaCeieA,sndtsLostGdn!ecB\n",
      "\n",
      "CieRaoctlousedosPAnirBaclep!enrdsGnsLtn,ee\n",
      "----------------------------------------------------------------\n",
      "reseLtnsdnaRplcBCenA,odtuosGcore!eeiaiPnsl\n",
      "\n",
      "CcpadntoLteosAeerBileRenosGslusdn,Pniae!rc\n",
      "----------------------------------------------------------------\n",
      "rAnutndoe!elBCeePodsLsGsraRecain,setolcnpi\n",
      "\n",
      "Cl!ontLudnPAerBceRerdGsoseo,eiaiepanscltsn\n",
      "----------------------------------------------------------------\n",
      "rPelnorRpiaeA,dtosGdn!ecBiesnsLtcsaeelCnou\n",
      "\n",
      "CeactusosniBleensGsLtn,eeacp!rdnloedPAriRo\n",
      "----------------------------------------------------------------\n",
      "r,snrneeCePstutGoaplBiAoeLscdeRcanendols!i\n",
      "\n",
      "Certst,PrBepnonsuesAealRadGlLdoeiic!esconn\n",
      "----------------------------------------------------------------\n",
      "rsLnnalce,ouoGreeiiPnslco!eanAdtssdRpBCeet\n",
      "\n",
      "CpdtteAeBeRosssdPnae!rclun,iilenGoLosercan\n",
      "----------------------------------------------------------------\n",
      "rolnaeiaesnosGn!cBi,dLtcrRlCnPeusopeeAtsde\n",
      "\n",
      "CRctedniBp!sGstneeaeednlsoArieaoousPclnrL,\n",
      "----------------------------------------------------------------\n",
      "rntne!BCeodsGaRaiselcnpin,tosrecePsLdoelAu\n",
      "\n",
      "C!ntdnerBReGseoiapacltsniensos,ecerdLuPAlo\n",
      "----------------------------------------------------------------\n",
      "rdn!ReneGepCiottcaeBnssssneae,uldrliAPLooc\n",
      "\n",
      "CetnoB!asdsraRnnle,eiprGotPiceocLsAnledsue\n",
      "----------------------------------------------------------------\n",
      "renRpedtG!einsceenousalCesLtdncBA,osoriaPl\n",
      "\n",
      "CatosBensn,a!rldPiRooeArcpdnLteelesGusniec\n",
      "----------------------------------------------------------------\n",
      "rtnpeeesGReiduc!lnnLseceoodaiAslonaCP,strB\n",
      "\n",
      "Cnts,BarsoPaeolnAi!dodecRsLenlpcutireeGnse\n",
      "----------------------------------------------------------------\n",
      "rsneeetuGplieLcRcndos!ienldeaAosoaBPstrnC,\n",
      "\n",
      "Crt,PBnossAaadloeiesonnc!cLdilRGueeepnstre\n",
      "----------------------------------------------------------------\n",
      "runelesLGecitocpinelsRaedsd!BAntoeCPora,sn\n",
      "\n",
      "CotPABrds,eanslsniacooiceGLnel!nudreRseept\n",
      "----------------------------------------------------------------\n",
      "rLnlceuoGeiislceantsspBeetdRCAdo!Pnre,onas\n",
      "\n",
      "CdtAeBossPnarcl,iinGosecanLorleune!sdeRtep\n",
      "----------------------------------------------------------------\n",
      "roncieLlGlaiusceBnstseCetdpAeoRPdr!,nnesoa\n",
      "\n",
      "CstenBdcsAiaoGlPeirno,rcnLslauoeesne!tdpRe\n",
      "----------------------------------------------------------------\n",
      "rlniaeosGcBiLtclCnuseesdeAtopPerR,dn!snaeo\n",
      "\n",
      "CctniBsGseeadnlAriooPcrL,lnuseasoeetnp!edR\n",
      "----------------------------------------------------------------\n",
      "rsnaBeltGiCioccnLsleudeAsoePtrp,enRsda!one\n",
      "\n",
      "CGtieBcnsnrasleidoAcoLPlru,ensseatopeenR!d\n",
      "----------------------------------------------------------------\n",
      "rtnBCesGailcinosceLdlAuoePsre,tnpseaRode!n\n",
      "\n",
      "CnterBGsiaclnisoecdLAlouPers,entspaeoRedn!\n",
      "----------------------------------------------------------------\n",
      "rnCetGBiscanlsieodcALolPure,snestapoeeRnd!\n",
      "\n",
      "CtrBnseaGliiconcsLelduAeosPert,pnesRado!en\n",
      "----------------------------------------------------------------\n",
      "rneGCitcBnssaeldiAoocPLrl,unessaeotepne!Rd\n",
      "\n",
      "CtBsranleiGoiccLnlsueedsAeotPpre,Rnds!anoe\n",
      "----------------------------------------------------------------\n",
      "rneGicCntsBesdaAloiPorc,Lnlsuaeoseent!pdeR\n",
      "\n",
      "CtBsalrinoecGLilcunesseedtApoePRrd,!nnseao\n",
      "----------------------------------------------------------------\n",
      "rneGicnsCetdBAsoaPlri,oncsLaloueens!edtRpe\n",
      "\n",
      "CtBsaliorcnLelGuiecsnestepdeARodP!rn,enosa\n",
      "----------------------------------------------------------------\n",
      "rneGicnsedCAtoBPsra,lnisoacoLelnu!edsReetp\n",
      "\n",
      "CtBsaliocLrlnueeGsiectnpseeRddA!onPero,ans\n",
      "----------------------------------------------------------------\n",
      "rneGicnsedAoCPtrB,snaslaiooecnL!lduReespet\n",
      "\n",
      "CtBsaliocLlurenseeGtipcenRsde!dnAeooPars,n\n",
      "----------------------------------------------------------------\n",
      "rneGicnsedAoPrC,tnBssaaoleino!cdLRleupetse\n",
      "\n",
      "CtBsaliocLluesrentepGeiRcdn!sneedoAaosPnr,\n",
      "----------------------------------------------------------------\n",
      "rneGicnsedAoPr,nCstaBoseanl!idoRceLpltuees\n",
      "\n",
      "CtBsaliocLluesetrpneeRGdi!cnnesoeadsAno,Pr\n",
      "----------------------------------------------------------------\n",
      "rneGicnsedAoPr,nsaCoteBns!adlRieopctLelsue\n",
      "\n",
      "CtBsaliocLluesetperRnde!Gnieconassend,AroP\n",
      "----------------------------------------------------------------\n",
      "rneGicnsedAoPr,nsaoeCnt!BdsRaelpitoecsLelu\n",
      "\n",
      "CtBsaliocLluesetpeRdr!nneeGoiacsnns,erdPAo\n",
      "----------------------------------------------------------------\n",
      "rneGicnsedAoPr,nsaoen!CdtRBespatleisoecuLl\n",
      "\n",
      "CtBsaliocLluesetpeRd!nrenoeaGsinc,nrsPeodA\n",
      "----------------------------------------------------------------\n",
      "rneGicnsedAoPr,nsaoen!dRCetpBtseasleiuolcL\n",
      "\n",
      "CtBsaliocLluesetpeRd!neoransenG,ircPnosAed\n",
      "----------------------------------------------------------------\n",
      "rneGicnsedAoPr,nsaoen!dRepCtteBsseaulliLoc\n",
      "\n",
      "CtBsaliocLluesetpeRd!neoasrnn,erGPiocAndse\n",
      "----------------------------------------------------------------\n",
      "rneGicnsedAoPr,nsaoen!dRepteCsteBuslaLlcio\n",
      "\n",
      "CtBsaliocLluesetpeRd!neoasn,rrnPeoGAidcens\n",
      "----------------------------------------------------------------\n",
      "rneGicnsedAoPr,nsaoen!dRepteseCutlBLscaoli\n",
      "\n",
      "CtBsaliocLluesetpeRd!neoasn,rPronAedGeiscn\n",
      "----------------------------------------------------------------\n",
      "rneGicnsedAoPr,nsaoen!dRepteseulCLtcBosial\n",
      "\n",
      "CtBsaliocLluesetpeRd!neoasn,rPoArdneesGnic\n",
      "----------------------------------------------------------------\n",
      "rneGicnsedAoPr,nsaoen!dRepteseulLcCotiBlsa\n",
      "\n",
      "CtBsaliocLluesetpeRd!neoasn,rPoAdersnnecGi\n",
      "----------------------------------------------------------------\n",
      "rneGicnsedAoPr,nsaoen!dRepteseulLcoiCltaBs\n",
      "\n",
      "CtBsaliocLluesetpeRd!neoasn,rPoAdesnrcnieG\n",
      "----------------------------------------------------------------\n",
      "rneGicnsedAoPr,nsaoen!dRepteseulLcoilaCstB\n",
      "\n",
      "CtBsaliocLluesetpeRd!neoasn,rPoAdesncirGne\n",
      "----------------------------------------------------------------\n",
      "rneGicnsedAoPr,nsaoen!dRepteseulLcoilasBCt\n",
      "\n",
      "CtBsaliocLluesetpeRd!neoasn,rPoAdesnciGern\n",
      "----------------------------------------------------------------\n"
     ]
    }
   ],
   "source": [
    "# try : zigzag (v^v^ with n row)\n",
    "\n",
    "test_text = text[::-1]\n",
    "for n in range(2,len(test_text)):\n",
    "    printZigZagConcat(test_text,n)\n",
    "    print('\\n')\n",
    "    printZigZagConcat(test_text[::-1],n)\n",
    "    print('\\n----------------------------------------------------------------')"
   ]
  },
  {
   "cell_type": "code",
   "execution_count": 307,
   "metadata": {},
   "outputs": [
    {
     "name": "stdout",
     "output_type": "stream",
     "text": [
      "['C', 't', 'B', 's', 'a', 'l', 'i', 'o', 'L', 'l', 'c', 'u', 'e', 's', 'e', 't', 'e', 'p', 'R', 'd', '!', 'n', 'e', 'o', 'a', 's', ',', 'r', 'P', 'o', 'A', 'n', 'd', 's', 'e', 'n', 'c', 'i', 'G', 'n', 'e', 'r']\n",
      "----------------------\n",
      "['e', 'r', 'G', 'n', 'c', 'n', 'e', 's', 'd', 'n', 'A', 'o', 'P', 'r', ',', 's', 'a', 'o', 'e', 'n', '!', 'i', 'R', 'p', 'd', 't', 'e', 's', 'e', 'u', 'c', 'l', 'L', 'o', 'e', 'l', 'a', 's', 'B', 't', 'C', 'i']\n"
     ]
    }
   ],
   "source": [
    "# try : zigzag (a>b<c>d)\n",
    "\n",
    "test_arr = text_arr\n",
    "print(zigzag(test_arr))\n",
    "print('----------------------')\n",
    "print(zigzag(test_arr[::-1]))"
   ]
  },
  {
   "cell_type": "code",
   "execution_count": 308,
   "metadata": {},
   "outputs": [
    {
     "name": "stdout",
     "output_type": "stream",
     "text": [
      "renGicnesdnAoPr,saoen!dRpeteseuclLoilasBtC\n",
      "CtBsalioLlcuesetepRd!neoas,rPoAndsenciGner\n",
      "------------------------------------------\n",
      "reniGcnsednoAPrs,aone!dpRetseeulcLoliastBC\n",
      "CBtsailoLclueesteRpd!enoa,srPAondesncGiner\n",
      "------------------------------------------\n",
      "reGnincedonsAP,osrae!pdnReeustecLloliaBtsC\n",
      "CstBailolLcetsueeRndp!earso,PAsnodecninGer\n",
      "------------------------------------------\n",
      "reiscnGndosPneAranp!o,edesletReuLlaocisB\n",
      "BsicoalLueRtelsede,o!pnarAenPsodnGncsier\n",
      "------------------------------------------\n",
      "recnnnGeA,nsosidPa!eutdoreRecillspeLasoB\n",
      "BosaLepslliceRerodtue!aPdisosn,AeGnnncer\n",
      "------------------------------------------\n",
      "renoenGsPoperdicn,neulct!sAadelasLsReoBtiC\n",
      "CitBoeRsLsaledaAs!tcluen,ncidrepoPsGneoner\n",
      "------------------------------------------\n",
      "reersnGd,!sdsnicAaReilupoonPeecasltneLBtoC\n",
      "CotBLentlsaceePnoopulieRaAcinsds!,dGnsreer\n",
      "------------------------------------------\n",
      "ressdnGnapleoAicoetLoenPner!siled,RuascB\n",
      "BcsauR,delis!renPneoLteociAoelpanGndsser\n",
      "------------------------------------------\n",
      "redonnGAeesnoicP!eudrne,RclpssaeLoti\n",
      "itoLeassplcR,enrdue!PcionseeAGnnoder\n",
      "------------------------------------------\n",
      "rennAnGo!ucdPicrRlLp,neseoitasdoelaseesB\n",
      "Bseesaleodsatioesen,pLlRrciPdcu!oGnAnner\n",
      "------------------------------------------\n",
      "reAdonGPRpric,etsneaesosdeeunn!cl\n",
      "lc!nnueedsoseaenste,cirpRPGnodAer\n",
      "------------------------------------------\n",
      "reopPnGret,icsesaneoeuesdncl!nAdLoRi\n",
      "iRoLdAn!lcndseueoenasesci,terGnPpoer\n",
      "------------------------------------------\n",
      "rePtrnG,essicaeuoneeclnsd!LodnARilpoeas\n",
      "saeopliRAndoL!dsnlceenoueacisse,GnrtPer\n",
      "------------------------------------------\n",
      "rers,nGseuaicoclenenLo!sddilRnApaseoPtBteC\n",
      "CetBtPoesapAnRlidds!oLnenelcociauesGn,srer\n",
      "------------------------------------------\n",
      "re,snGaoicenne!dsdRpnAetoPesre\n",
      "ersePoteAnpRdsd!ennecioaGns,er\n",
      "------------------------------------------\n",
      "resanGoeicn!nedRsdpenAteoPser,uc\n",
      "cu,resPoetAnepdsRden!ncieoGnaser\n",
      "------------------------------------------\n",
      "reaonGenic!dneRpsdetnAesoPeur,clsL\n",
      "Lslc,ruePoseAntedspRend!cineGnoaer\n",
      "------------------------------------------\n",
      "reoenGn!icdRnepesdtenAseoPucr,lLsaoi\n",
      "ioasLl,rcuPoesAnetdsepenRdci!nGneoer\n",
      "------------------------------------------\n",
      "reennG!dicRpneetsdesnAeuoPclr,Losailoa\n",
      "aoliasoL,rlcPoueAnsedsteenpRcid!Gnneer\n",
      "------------------------------------------\n",
      "ren!nGdRicpenetesdsenAucoPlLr,oisalaoesB\n",
      "Bseoalasio,rLlPocuAnesdsetenepciRdGn!ner\n",
      "------------------------------------------\n",
      "re!dnGRpicetneessdeunAcloPLor,ilsaasoeBtnC\n",
      "CntBeosaasli,roLPolcAnuedsseentecipRGnd!er\n",
      "------------------------------------------\n",
      "renGicnesdnAoPr,saoen!\n",
      "!neoas,rPoAndsenciGner\n",
      "------------------------------------------\n",
      "renGicnesdnAoPr,saoen!d\n",
      "d!neoas,rPoAndsenciGner\n",
      "------------------------------------------\n",
      "renGicnesdnAoPr,saoen!dR\n",
      "Rd!neoas,rPoAndsenciGner\n",
      "------------------------------------------\n",
      "renGicnesdnAoPr,saoen!dRp\n",
      "pRd!neoas,rPoAndsenciGner\n",
      "------------------------------------------\n",
      "renGicnesdnAoPr,saoen!dRpe\n",
      "epRd!neoas,rPoAndsenciGner\n",
      "------------------------------------------\n",
      "renGicnesdnAoPr,saoen!dRpet\n",
      "tepRd!neoas,rPoAndsenciGner\n",
      "------------------------------------------\n",
      "renGicnesdnAoPr,saoen!dRpete\n",
      "etepRd!neoas,rPoAndsenciGner\n",
      "------------------------------------------\n",
      "renGicnesdnAoPr,saoen!dRpetes\n",
      "setepRd!neoas,rPoAndsenciGner\n",
      "------------------------------------------\n",
      "renGicnesdnAoPr,saoen!dRpetese\n",
      "esetepRd!neoas,rPoAndsenciGner\n",
      "------------------------------------------\n"
     ]
    }
   ],
   "source": [
    "# try : zigzag_matrix\n",
    "\n",
    "matrix_source_arr = text_arr[::-1]\n",
    "\n",
    "for n in range(30):\n",
    "    n +=1\n",
    "    matrix = create_matrix(matrix_source_arr,n)\n",
    "    matrix = np.array(matrix)\n",
    "\n",
    "    result = zigzag_matrix(matrix,n,False)\n",
    "\n",
    "    print(result)\n",
    "    print(result[::-1])\n",
    "    print('------------------------------------------')"
   ]
  }
 ],
 "metadata": {
  "kernelspec": {
   "display_name": "Python 3 (ipykernel)",
   "language": "python",
   "name": "python3"
  },
  "language_info": {
   "codemirror_mode": {
    "name": "ipython",
    "version": 3
   },
   "file_extension": ".py",
   "mimetype": "text/x-python",
   "name": "python",
   "nbconvert_exporter": "python",
   "pygments_lexer": "ipython3",
   "version": "3.7.9"
  },
  "vscode": {
   "interpreter": {
    "hash": "3cc0797f5513bcf5b40f2b9f2bcd2a7ab449139d675a70648ebce321d6d7cf93"
   }
  }
 },
 "nbformat": 4,
 "nbformat_minor": 2
}

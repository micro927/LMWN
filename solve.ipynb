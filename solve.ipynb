{
 "cells": [
  {
   "cell_type": "code",
   "execution_count": 109,
   "metadata": {},
   "outputs": [
    {
     "data": {
      "text/plain": [
       "82"
      ]
     },
     "execution_count": 109,
     "metadata": {},
     "output_type": "execute_result"
    }
   ],
   "source": [
    "import collections\n",
    "secretstring = \"CYtZBsWZaZliYZocWLZlXuZZYWYeYXZsXeZXtXWpXeRYYYd!ZnYeWXoYXasnX,WXWrWPoAdWesnciGenWr\"\n",
    "len(secretstring)\n"
   ]
  },
  {
   "cell_type": "code",
   "execution_count": 110,
   "metadata": {},
   "outputs": [],
   "source": [
    "\n",
    "frequencies = collections.Counter(secretstring)\n",
    "repeated = {}\n",
    "\n",
    "for key, value in frequencies.items():\n",
    "    if value > 1:\n",
    "        repeated[key] = value\n"
   ]
  },
  {
   "cell_type": "code",
   "execution_count": 111,
   "metadata": {},
   "outputs": [
    {
     "data": {
      "text/plain": [
       "{'Y': 10,\n",
       " 't': 2,\n",
       " 'Z': 10,\n",
       " 's': 4,\n",
       " 'W': 10,\n",
       " 'a': 2,\n",
       " 'l': 2,\n",
       " 'i': 2,\n",
       " 'o': 3,\n",
       " 'c': 2,\n",
       " 'X': 10,\n",
       " 'e': 6,\n",
       " 'd': 2,\n",
       " 'n': 4,\n",
       " 'r': 2}"
      ]
     },
     "execution_count": 111,
     "metadata": {},
     "output_type": "execute_result"
    }
   ],
   "source": [
    "repeated"
   ]
  },
  {
   "cell_type": "code",
   "execution_count": 112,
   "metadata": {},
   "outputs": [
    {
     "name": "stdout",
     "output_type": "stream",
     "text": [
      "CtBsaliocLluesetpeRd!neoasn,rPoAdesnciGenr\n",
      "42\n"
     ]
    }
   ],
   "source": [
    "string = secretstring.replace(\"W\", \"\")\n",
    "string = string.replace(\"X\", \"\")\n",
    "string = string.replace(\"Y\", \"\")\n",
    "string = string.replace(\"Z\", \"\")\n",
    "\n",
    "print(string)\n",
    "print(len(string))\n"
   ]
  },
  {
   "cell_type": "code",
   "execution_count": 113,
   "metadata": {},
   "outputs": [
    {
     "name": "stdout",
     "output_type": "stream",
     "text": [
      "C t B s a l i o c L l u \n",
      "e s e t p e R d ! n e o \n",
      "a s n , r P o A d e s n \n"
     ]
    }
   ],
   "source": [
    "i = 1\n",
    "row = ''\n",
    "for ele in string:\n",
    "    row = row + ele + ' '\n",
    "    if(i%12 == 0):\n",
    "        print(row)\n",
    "        row = ''\n",
    "    i=i+1"
   ]
  },
  {
   "cell_type": "code",
   "execution_count": 114,
   "metadata": {},
   "outputs": [],
   "source": [
    "def printZigZagConcat(str, n):\n",
    "\n",
    "    # Corner Case (Only one row)\n",
    "    if n == 1:\n",
    "        print(str)\n",
    "        return\n",
    "\n",
    "    # Find length of string\n",
    "    l = len(str)\n",
    "\n",
    "    # Create an array of\n",
    "    # strings for all n rows\n",
    "    arr = [\"\" for x in range(l)]\n",
    "\n",
    "    # Initialize index for\n",
    "    # array of strings arr[]\n",
    "    row = 0\n",
    "\n",
    "    # Traverse through\n",
    "    # given string\n",
    "    for i in range(l):\n",
    "\n",
    "        # append current character\n",
    "        # to current row\n",
    "        arr[row] += str[i]\n",
    "\n",
    "        # If last row is reached,\n",
    "        # change direction to 'up'\n",
    "        if row == n - 1:\n",
    "            down = False\n",
    "\n",
    "        # If 1st row is reached,\n",
    "        # change direction to 'down'\n",
    "        elif row == 0:\n",
    "            down = True\n",
    "\n",
    "        # If direction is down,\n",
    "        # increment, else decrement\n",
    "        if down:\n",
    "            row += 1\n",
    "        else:\n",
    "            row -= 1\n",
    "\n",
    "    # Print concatenation\n",
    "    # of all rows\n",
    "    for i in range(n):\n",
    "        print(arr[i], end=\"\")\n",
    "\n",
    "\n",
    "def string_zigzag(s: str, rows: int):\n",
    "    # initialize the line number\n",
    "    line_no = 0\n",
    "    # switch\n",
    "    pl = 1\n",
    "    # row list. this list will decide which character in the string will go in which row number\n",
    "    ch_rows = [''] * rows\n",
    "    for i in range(len(s)):\n",
    "        # add characters to specific rows\n",
    "        ch_rows[line_no] += s[i]\n",
    "        if rows > 1:\n",
    "            line_no += pl\n",
    "            # if line no reaches 0 or row count\n",
    "            if line_no == 0 or line_no == rows - 1:\n",
    "                pl *= -1\n",
    "    return ''.join(ch_rows)"
   ]
  },
  {
   "cell_type": "code",
   "execution_count": 116,
   "metadata": {},
   "outputs": [
    {
     "name": "stdout",
     "output_type": "stream",
     "text": [
      "CcpadntoLteosAeerBileRenosGslusdn,Pniae!rc"
     ]
    }
   ],
   "source": [
    "arr = []\n",
    "for ele in string:\n",
    "    arr.append(ele)\n",
    "n = 3\n",
    "printZigZagConcat(string, 5)\n"
   ]
  }
 ],
 "metadata": {
  "kernelspec": {
   "display_name": "Python 3.7.9 64-bit",
   "language": "python",
   "name": "python3"
  },
  "language_info": {
   "codemirror_mode": {
    "name": "ipython",
    "version": 3
   },
   "file_extension": ".py",
   "mimetype": "text/x-python",
   "name": "python",
   "nbconvert_exporter": "python",
   "pygments_lexer": "ipython3",
   "version": "3.7.9"
  },
  "orig_nbformat": 4,
  "vscode": {
   "interpreter": {
    "hash": "3cc0797f5513bcf5b40f2b9f2bcd2a7ab449139d675a70648ebce321d6d7cf93"
   }
  }
 },
 "nbformat": 4,
 "nbformat_minor": 2
}

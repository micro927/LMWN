{
 "cells": [
  {
   "cell_type": "code",
   "execution_count": 1,
   "metadata": {},
   "outputs": [],
   "source": [
    "import numpy as np\n",
    "import pandas as pd\n",
    "from function import *"
   ]
  },
  {
   "cell_type": "code",
   "execution_count": 2,
   "metadata": {},
   "outputs": [
    {
     "data": {
      "text/plain": [
       "82"
      ]
     },
     "execution_count": 2,
     "metadata": {},
     "output_type": "execute_result"
    }
   ],
   "source": [
    "secretstring = \"CYtZBsWZaZliYZocWLZlXuZZYWYeYXZsXeZXtXWpXeRYYYd!ZnYeWXoYXasnX,WXWrWPoAdWesnciGenWr\"\n",
    "len(secretstring)"
   ]
  },
  {
   "cell_type": "markdown",
   "metadata": {},
   "source": [
    "# Sometimes the high frequency of characters are meaningless"
   ]
  },
  {
   "cell_type": "code",
   "execution_count": 3,
   "metadata": {},
   "outputs": [
    {
     "data": {
      "text/plain": [
       "{'C': 1,\n",
       " 'B': 1,\n",
       " 'L': 1,\n",
       " 'u': 1,\n",
       " 'p': 1,\n",
       " 'R': 1,\n",
       " '!': 1,\n",
       " ',': 1,\n",
       " 'P': 1,\n",
       " 'A': 1,\n",
       " 'G': 1,\n",
       " 't': 2,\n",
       " 'a': 2,\n",
       " 'l': 2,\n",
       " 'i': 2,\n",
       " 'c': 2,\n",
       " 'd': 2,\n",
       " 'r': 2,\n",
       " 'o': 3,\n",
       " 's': 4,\n",
       " 'n': 4,\n",
       " 'e': 6,\n",
       " 'Y': 10,\n",
       " 'Z': 10,\n",
       " 'W': 10,\n",
       " 'X': 10}"
      ]
     },
     "execution_count": 3,
     "metadata": {},
     "output_type": "execute_result"
    }
   ],
   "source": [
    "count_dict = count_char_in_string(secretstring)\n",
    "count_dict"
   ]
  },
  {
   "cell_type": "code",
   "execution_count": 4,
   "metadata": {},
   "outputs": [
    {
     "name": "stdout",
     "output_type": "stream",
     "text": [
      "['Y', 'Z', 'W', 'X']\n"
     ]
    }
   ],
   "source": [
    "filter_out_array = [char for char,count in count_dict.items() if count == 10 ]\n",
    "print(filter_out_array)"
   ]
  },
  {
   "cell_type": "code",
   "execution_count": 5,
   "metadata": {},
   "outputs": [
    {
     "name": "stdout",
     "output_type": "stream",
     "text": [
      "CtBsaliocLluesetpeRd!neoasn,rPoAdesnciGenr\n"
     ]
    }
   ],
   "source": [
    "filtered_string = filter_chars_out_from_string(secretstring,filter_out_array)\n",
    "print(filtered_string)"
   ]
  },
  {
   "cell_type": "markdown",
   "metadata": {},
   "source": [
    "# You may have to zigzag walk to reach your destination"
   ]
  },
  {
   "cell_type": "code",
   "execution_count": 6,
   "metadata": {},
   "outputs": [],
   "source": [
    "# Python3 program to illustrate\n",
    "# Rail Fence Cipher (ZIGZAG) Decryption\n",
    " \n",
    "def decryptRailFence(cipher, key):\n",
    " \n",
    "    # create the matrix to cipher\n",
    "    # plain text key = rows ,\n",
    "    # length(text) = columns\n",
    "    # filling the rail matrix to\n",
    "    # distinguish filled spaces\n",
    "    # from blank ones\n",
    "    rail = [['\\n' for i in range(len(cipher))]\n",
    "                  for j in range(key)]\n",
    "     \n",
    "    # to find the direction\n",
    "    dir_down = None\n",
    "    row, col = 0, 0\n",
    "     \n",
    "    # mark the places with '*'\n",
    "    for i in range(len(cipher)):\n",
    "        if row == 0:\n",
    "            dir_down = True\n",
    "        if row == key - 1:\n",
    "            dir_down = False\n",
    "         \n",
    "        # place the marker\n",
    "        rail[row][col] = '*'\n",
    "        col += 1\n",
    "         \n",
    "        # find the next row\n",
    "        # using direction flag\n",
    "        if dir_down:\n",
    "            row += 1\n",
    "        else:\n",
    "            row -= 1\n",
    "             \n",
    "    # now we can construct the\n",
    "    # fill the rail matrix\n",
    "    index = 0\n",
    "    for i in range(key):\n",
    "        for j in range(len(cipher)):\n",
    "            if ((rail[i][j] == '*') and\n",
    "               (index < len(cipher))):\n",
    "                rail[i][j] = cipher[index]\n",
    "                index += 1\n",
    "         \n",
    "    # now read the matrix in\n",
    "    # zig-zag manner to construct\n",
    "    # the resultant text\n",
    "    result = []\n",
    "    row, col = 0, 0\n",
    "    for i in range(len(cipher)):\n",
    "         \n",
    "        # check the direction of flow\n",
    "        if row == 0:\n",
    "            dir_down = True\n",
    "        if row == key-1:\n",
    "            dir_down = False\n",
    "             \n",
    "        # place the marker\n",
    "        if (rail[row][col] != '*'):\n",
    "            result.append(rail[row][col])\n",
    "            col += 1\n",
    "             \n",
    "        # find the next row using\n",
    "        # direction flag\n",
    "        if dir_down:\n",
    "            row += 1\n",
    "        else:\n",
    "            row -= 1\n",
    "    return(\"\".join(result))"
   ]
  },
  {
   "cell_type": "code",
   "execution_count": null,
   "metadata": {},
   "outputs": [],
   "source": [
    "# try it\n",
    "print(decryptRailFence(filtered_string, 2))\n",
    "print(decryptRailFence(filtered_string, 3))\n",
    "print(decryptRailFence(filtered_string, 4))"
   ]
  },
  {
   "cell_type": "markdown",
   "metadata": {},
   "source": [
    "# Secret Result !"
   ]
  },
  {
   "cell_type": "code",
   "execution_count": null,
   "metadata": {},
   "outputs": [],
   "source": [
    "result = decryptRailFence(filtered_string, 4)\n",
    "print(result)"
   ]
  },
  {
   "cell_type": "markdown",
   "metadata": {},
   "source": [
    "# ConnectLocalBusiness,GreatPeopleAndRiders!"
   ]
  }
 ],
 "metadata": {
  "kernelspec": {
   "display_name": "Python 3 (ipykernel)",
   "language": "python",
   "name": "python3"
  },
  "language_info": {
   "codemirror_mode": {
    "name": "ipython",
    "version": 3
   },
   "file_extension": ".py",
   "mimetype": "text/x-python",
   "name": "python",
   "nbconvert_exporter": "python",
   "pygments_lexer": "ipython3",
   "version": "3.7.9"
  },
  "vscode": {
   "interpreter": {
    "hash": "3cc0797f5513bcf5b40f2b9f2bcd2a7ab449139d675a70648ebce321d6d7cf93"
   }
  }
 },
 "nbformat": 4,
 "nbformat_minor": 2
}
